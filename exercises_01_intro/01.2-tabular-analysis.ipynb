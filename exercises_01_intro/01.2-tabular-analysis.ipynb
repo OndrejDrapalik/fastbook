{
 "cells": [
  {
   "cell_type": "code",
   "execution_count": null,
   "metadata": {},
   "outputs": [],
   "source": []
  }
 ],
 "metadata": {
  "kernelspec": {
   "display_name": "fastai-env",
   "language": "python",
   "name": "python3"
  },
  "language_info": {
   "name": "python",
   "version": "3.10.8 (main, Nov 24 2022, 08:09:04) [Clang 14.0.6 ]"
  },
  "orig_nbformat": 4,
  "vscode": {
   "interpreter": {
    "hash": "a1f88d4cdea7c7502e2130d2eb4782fd7efa0a4ade7b7da31f967d36304c54a1"
   }
  }
 },
 "nbformat": 4,
 "nbformat_minor": 2
}
