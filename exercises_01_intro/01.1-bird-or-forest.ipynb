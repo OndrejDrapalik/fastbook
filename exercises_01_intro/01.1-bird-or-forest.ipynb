{
 "cells": [
  {
   "attachments": {},
   "cell_type": "markdown",
   "metadata": {},
   "source": [
    "## Step 1: Download images of birds and non-birds"
   ]
  },
  {
   "cell_type": "code",
   "execution_count": null,
   "metadata": {},
   "outputs": [],
   "source": [
    "# If not inslalled, pip install fastai and duckduckgo_search\n",
    "\n",
    "# First we needs to define the search_images function\n",
    "\n",
    "from duckduckgo_search import ddg_images\n",
    "from fastcore.all import *\n",
    "\n",
    "def search_images(term, max_images=30):\n",
    "    print(f\"Searching for '{term}'\")\n",
    "    return L(ddg_images(term, max_results=max_images)).itemgot('image')"
   ]
  },
  {
   "cell_type": "code",
   "execution_count": null,
   "metadata": {},
   "outputs": [],
   "source": [
    "# Then we can search for images\n",
    "\n",
    "urls = search_images('bird photos', max_images=1)\n",
    "urls[0]"
   ]
  },
  {
   "cell_type": "code",
   "execution_count": null,
   "metadata": {},
   "outputs": [],
   "source": [
    "# Use download_url to get the image and fastai to display it\n",
    "from fastdownload import download_url\n",
    "\n",
    "dest = 'bird.jpg'\n",
    "download_url(urls[0], dest, show_progress=False)\n",
    "\n",
    "from fastai.vision.all import *\n",
    "\n",
    "im = Image.open(dest)\n",
    "im.to_thumb(256,256)"
   ]
  },
  {
   "cell_type": "code",
   "execution_count": null,
   "metadata": {},
   "outputs": [],
   "source": [
    "download_url(search_images('forest photos', max_images=1)[0], 'forest.jpg', show_progress=False)\n",
    "Image.open('forest.jpg').to_thumb(256,256)"
   ]
  },
  {
   "cell_type": "code",
   "execution_count": null,
   "metadata": {},
   "outputs": [],
   "source": [
    "from time import sleep\n",
    "\n",
    "searches = 'forest','bird'\n",
    "\n",
    "path = Path('images/bird_or_not')\n",
    "\n",
    "def check_files(path):\n",
    "    for root, dirs, files in os.walk(path):\n",
    "        for file in files:\n",
    "            if file.endswith(\".png\") or file.endswith(\".jpg\"):\n",
    "                print(f\"Found file with .png or .jpg extension: {os.path.join(root, file)}\")\n",
    "                return True\n",
    "    return False\n",
    "\n",
    "if check_files(path):\n",
    "    print(\"The directory and its subdirectories contain files with the .png or .jpg extension.\")\n",
    "else:\n",
    "    print(\"The directory and its subdirectories do not contain files with the .png or .jpg extension.\")\n",
    "\n",
    "    for o in searches:\n",
    "        dest = (path/o)\n",
    "        dest.mkdir(exist_ok=True, parents=True)\n",
    "        download_images(dest, urls=search_images(f'{o} photo'))\n",
    "        sleep(10)  # Pause between searches to avoid over-loading server\n",
    "        download_images(dest, urls=search_images(f'{o} sun photo'))\n",
    "        sleep(10)\n",
    "        download_images(dest, urls=search_images(f'{o} shade photo'))\n",
    "        sleep(10)\n",
    "        resize_images(path/o, max_size=400, dest=path/o)\n",
    "\n",
    "    pass\n",
    "\n"
   ]
  },
  {
   "attachments": {},
   "cell_type": "markdown",
   "metadata": {},
   "source": [
    "## Step 2: Train our model"
   ]
  },
  {
   "cell_type": "code",
   "execution_count": null,
   "metadata": {},
   "outputs": [],
   "source": [
    "# Some photos might not download correctly which could cause our model training to fail, so we'll remove them:\n",
    "\n",
    "failed = verify_images(get_image_files(path))\n",
    "failed.map(Path.unlink)\n",
    "len(failed)"
   ]
  },
  {
   "attachments": {},
   "cell_type": "markdown",
   "metadata": {},
   "source": [
    "### DataLoader and DataBlock\n",
    "\n",
    "This code is defining a `DataLoader` object in the fastai library. The `DataLoader` is an object that loads and manages a dataset for training and evaluation of a machine learning model. The `DataLoader` is created using a `DataBlock`, which defines the rules for preprocessing and splitting the data into training, validation, and possibly test sets.\n",
    "\n",
    "The `DataBlock` is being initialized with the following arguments:\n",
    "\n",
    "- `blocks`: This specifies the types of blocks that the `DataBlock` should use. In this case, there are two blocks: `ImageBlock` and `CategoryBlock`. The `ImageBlock` is used to load and preprocess images, and the `CategoryBlock` is used to handle the categorical labels associated with the images.\n",
    "\n",
    "- `get_items`: This is a function that returns the list of items (in this case, file paths to images) that the `DataBlock` should use. The `get_image_files` function is provided as the `get_items` argument.\n",
    "\n",
    "- `splitter`: This is an object that defines how the data should be split into training, validation, and possibly test sets. In this case, the `RandomSplitter` is being used to split the data randomly, with 20% of the data being used for validation (`valid_pct=0.2`). The `seed` argument ensures that the same split is used each time the code is run.\n",
    "\n",
    "- `get_y`: This is a function that takes an item (in this case, a file path to an image) and returns the corresponding label for that item. The `parent_label` function is provided as the `get_y` argument.\n",
    "\n",
    "- `item_tfms`: This is a list of transformations that should be applied to the items (in this case, the images) during preprocessing. In this case, a single transformation is being applied: `Resize(192, method='squish')`. This will resize the images to have a height of 192 pixels, while preserving the aspect ratio. The `squish` method will stretch the image to fit the specified dimensions while preserving the aspect ratio, which may cause the image to appear distorted.\n",
    "\n",
    "Finally, the `dataloaders` method is called on the `DataBlock` object, with `path` and `bs=32` as arguments. The `path` argument specifies the root directory for the dataset, and the `bs` argument specifies the batch size for the `DataLoader`. The `dataloaders` method creates a `DataLoader` object and returns it.\n",
    "\n",
    "The `show_batch` method is then called on the `DataLoader` object, with `max_n=6` as an argument. This method displays a batch of data from the `DataLoader`, with a maximum of 6 items per batch. This can be useful for visualizing the data and checking that it has been loaded and preprocessed correctly.\n"
   ]
  },
  {
   "cell_type": "code",
   "execution_count": null,
   "metadata": {},
   "outputs": [],
   "source": [
    "dls = DataBlock(\n",
    "    blocks=(ImageBlock, CategoryBlock), \n",
    "    get_items=get_image_files, \n",
    "    splitter=RandomSplitter(valid_pct=0.2, seed=42),\n",
    "    get_y=parent_label,\n",
    "    item_tfms=[Resize(192, method='squish')]\n",
    ").dataloaders(path, bs=32)\n",
    "\n",
    "dls.show_batch(max_n=6)"
   ]
  },
  {
   "cell_type": "code",
   "execution_count": null,
   "metadata": {},
   "outputs": [],
   "source": [
    "\n",
    "if check_files(path):\n",
    "    print(\"Model has been trained before\")\n",
    "else:\n",
    "    print(\"Training the model\")\n",
    "    \n",
    "    # We'll use a pretrained ResNet18\n",
    "    learn = vision_learner(dls, resnet18, metrics=error_rate)\n",
    "\n",
    "    # Take pretrained weights from the model and train it on our particular dataset for 3 epochs\n",
    "    learn.fine_tune(3)"
   ]
  },
  {
   "attachments": {},
   "cell_type": "markdown",
   "metadata": {},
   "source": [
    "## Step 3: Use our model"
   ]
  },
  {
   "attachments": {},
   "cell_type": "markdown",
   "metadata": {},
   "source": [
    "### What does the first line do?\n",
    "\n",
    "The predict method returns a tuple containing three elements:\n",
    "\n",
    "- A string indicating the predicted class of the input image\n",
    "- An integer representing the index of the predicted class\n",
    "- An array of probabilities for each possible class, where the probability at index i corresponds to the class at index i.\n",
    "\n",
    "The first element of the tuple, is_bird, is assigned the predicted class of the input image. The second and third elements are not used in this code and are assigned to _, a placeholder for values that will be discarded.\n",
    "\n",
    "The code then prints out a string stating the predicted class of the input image and the probability that the image is a bird. The probability is obtained by accessing the first element of the probs array and formatting it to 4 decimal places using the :.4f string formatting syntax."
   ]
  },
  {
   "cell_type": "code",
   "execution_count": null,
   "metadata": {},
   "outputs": [],
   "source": [
    "is_bird,_,probs = learn.predict(PILImage.create('bird.jpg'))\n",
    "print(f\"This is a: {is_bird}.\")\n",
    "print(f\"Probability it's a bird: {probs[0]:.4f}\")"
   ]
  }
 ],
 "metadata": {
  "kernelspec": {
   "display_name": "fastai-env",
   "language": "python",
   "name": "python3"
  },
  "language_info": {
   "codemirror_mode": {
    "name": "ipython",
    "version": 3
   },
   "file_extension": ".py",
   "mimetype": "text/x-python",
   "name": "python",
   "nbconvert_exporter": "python",
   "pygments_lexer": "ipython3",
   "version": "3.10.8"
  },
  "orig_nbformat": 4,
  "vscode": {
   "interpreter": {
    "hash": "a1f88d4cdea7c7502e2130d2eb4782fd7efa0a4ade7b7da31f967d36304c54a1"
   }
  }
 },
 "nbformat": 4,
 "nbformat_minor": 2
}
